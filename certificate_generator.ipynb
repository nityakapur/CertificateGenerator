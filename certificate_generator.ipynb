{
 "cells": [
  {
   "cell_type": "code",
   "execution_count": 23,
   "metadata": {
    "id": "0JbyOiJggNlc"
   },
   "outputs": [],
   "source": [
    "import csv\n",
    "import cv2"
   ]
  },
  {
   "cell_type": "code",
   "execution_count": 24,
   "metadata": {
    "id": "oqn-_13UgaHb"
   },
   "outputs": [],
   "source": [
    "csv_path = r'D:\\Nitya\\Certificate-Generator\\names.csv'"
   ]
  },
  {
   "cell_type": "code",
   "execution_count": 25,
   "metadata": {
    "id": "ji4_K2UZhXas"
   },
   "outputs": [],
   "source": [
    "template_path= r'D:\\Nitya\\Certificate-Generator\\Certificate.png'"
   ]
  },
  {
   "cell_type": "code",
   "execution_count": 26,
   "metadata": {
    "id": "EZSa5i2DisxF"
   },
   "outputs": [],
   "source": [
    "output_path= r'D:\\Nitya\\Certificate-Generator\\Certificates'"
   ]
  },
  {
   "cell_type": "code",
   "execution_count": 27,
   "metadata": {
    "id": "T4OOrBINi_PE"
   },
   "outputs": [],
   "source": [
    "font_size=4\n",
    "font_color=(156,79,40)"
   ]
  },
  {
   "cell_type": "code",
   "execution_count": 28,
   "metadata": {
    "id": "dqYZRFKOjeHt"
   },
   "outputs": [],
   "source": [
    "coordinate_x_adjustment = 40\n",
    "coordinate_y_adjustment = 85"
   ]
  },
  {
   "cell_type": "code",
   "execution_count": 29,
   "metadata": {
    "id": "5z27GW0HjlFs"
   },
   "outputs": [],
   "source": [
    "names_list=[]"
   ]
  },
  {
   "cell_type": "code",
   "execution_count": 30,
   "metadata": {
    "id": "5z3VMctmjmvJ"
   },
   "outputs": [],
   "source": [
    "with open(csv_path, 'r') as file:\n",
    "  reader = csv.reader(file)\n",
    "  names_list = [row[0] for row in reader]"
   ]
  },
  {
   "cell_type": "code",
   "execution_count": 31,
   "metadata": {
    "colab": {
     "base_uri": "https://localhost:8080/"
    },
    "id": "T63WZhJkkBqn",
    "outputId": "d9346d9b-5038-4371-cf63-7d4bc11c2161"
   },
   "outputs": [
    {
     "name": "stdout",
     "output_type": "stream",
     "text": [
      "Processed Certificate (1/6)\n",
      "Processed Certificate (2/6)\n",
      "Processed Certificate (3/6)\n",
      "Processed Certificate (4/6)\n",
      "Processed Certificate (5/6)\n",
      "Processed Certificate (6/6)\n"
     ]
    }
   ],
   "source": [
    "for index, name in enumerate(names_list):\n",
    "  img= cv2.imread(template_path)\n",
    "  font= cv2.FONT_HERSHEY_DUPLEX\n",
    "  text_size= cv2.getTextSize(name,font,font_size,10)[0]\n",
    "  text_x= (img.shape[1]-text_size[0])/2 +coordinate_x_adjustment\n",
    "  text_y= (img.shape[0]+text_size[1])/2-coordinate_y_adjustment\n",
    "  text_x= int(text_x)\n",
    "  text_y= int(text_y)\n",
    "  cv2.putText(img, name, (text_x, text_y), font, font_size, font_color, 10)\n",
    "  certificate_path = f\"{output_path}/certificate_{index + 1}.png\"\n",
    "  cv2.imwrite(certificate_path, img)\n",
    "  print(f'Processed Certificate ({index + 1}/{len(names_list)})')"
   ]
  },
  {
   "cell_type": "code",
   "execution_count": null,
   "metadata": {},
   "outputs": [],
   "source": []
  }
 ],
 "metadata": {
  "colab": {
   "provenance": []
  },
  "kernelspec": {
   "display_name": "Python 3 (ipykernel)",
   "language": "python",
   "name": "python3"
  },
  "language_info": {
   "codemirror_mode": {
    "name": "ipython",
    "version": 3
   },
   "file_extension": ".py",
   "mimetype": "text/x-python",
   "name": "python",
   "nbconvert_exporter": "python",
   "pygments_lexer": "ipython3",
   "version": "3.12.0"
  }
 },
 "nbformat": 4,
 "nbformat_minor": 4
}
